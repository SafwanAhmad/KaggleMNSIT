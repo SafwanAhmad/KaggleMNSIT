{
 "cells": [
  {
   "cell_type": "code",
   "execution_count": 1,
   "metadata": {
    "collapsed": false
   },
   "outputs": [],
   "source": [
    "%matplotlib inline\n",
    "\n",
    "import numpy as np\n",
    "import matplotlib.pyplot as plt\n",
    "from numpy import genfromtxt\n",
    "\n",
    "dataframe = genfromtxt('train.csv', delimiter=',', skip_header=True)\n"
   ]
  },
  {
   "cell_type": "code",
   "execution_count": 2,
   "metadata": {
    "collapsed": false
   },
   "outputs": [],
   "source": [
    "y, X = dataframe[:,0], dataframe[:, 1:]\n",
    "y = y.reshape([-1,1])"
   ]
  },
  {
   "cell_type": "code",
   "execution_count": 3,
   "metadata": {
    "collapsed": false
   },
   "outputs": [],
   "source": [
    "# Split it into train and validation\n",
    "n_train = int(0.7 * len(y))\n",
    "\n",
    "y_train, X_train, y_test, X_test = y[: n_train], X[: n_train, :], y[n_train:], X[n_train:, :]"
   ]
  },
  {
   "cell_type": "code",
   "execution_count": 4,
   "metadata": {
    "collapsed": false
   },
   "outputs": [
    {
     "data": {
      "text/plain": [
       "(42000, 1)"
      ]
     },
     "execution_count": 4,
     "metadata": {},
     "output_type": "execute_result"
    }
   ],
   "source": [
    "X_test.shape\n",
    "y.shape"
   ]
  },
  {
   "cell_type": "code",
   "execution_count": 15,
   "metadata": {
    "collapsed": true
   },
   "outputs": [],
   "source": [
    "import tensorflow as tf\n",
    "\n",
    "def dense(input_size, output_size, mean=0.0, stddev=0.01, dtype=tf.float32, activation_type=None):\n",
    "    weight_tensor = tf.Variable(tf.random_normal(shape=(input_size, output_size),\n",
    "                                                mean=mean, stddev=stddev, dtype=dtype))\n",
    "    \n",
    "    bias_tensor = tf.Variable(tf.zeros(output_size))\n",
    "    \n",
    "    def apply_dense(X):\n",
    "        result = tf.add(tf.matmul(X, weight_tensor), bias_tensor)\n",
    "        return activation_type(result) if activation_type != None else result\n",
    "\n",
    "    return apply_dense\n",
    "        "
   ]
  },
  {
   "cell_type": "code",
   "execution_count": 6,
   "metadata": {
    "collapsed": true
   },
   "outputs": [],
   "source": [
    "def combine(tensor_one, tensor_two):\n",
    "    return tf.div(tf.add(tensor_one, tensor_two), 2)"
   ]
  },
  {
   "cell_type": "code",
   "execution_count": 7,
   "metadata": {
    "collapsed": true
   },
   "outputs": [],
   "source": [
    "input_ = tf.placeholder(dtype=tf.float32, shape=(None, X_train.shape[1]))\n",
    "labels = tf.placeholder(dtype=tf.int32, shape=(None, 1))\n",
    "learning_rate_ph = tf.placeholder(dtype=tf.float32)"
   ]
  },
  {
   "cell_type": "code",
   "execution_count": 26,
   "metadata": {
    "collapsed": true
   },
   "outputs": [],
   "source": [
    "def nn():\n",
    "    \n",
    "    l1 = dense(int(input_.shape[1]), 32, activation_type=tf.nn.relu)(input_)\n",
    "    l2 = dense(int(l1.shape[1]), 16, activation_type=tf.nn.relu)(l1)\n",
    "    l3 = dense(int(l2.shape[1]), 32, activation_type=tf.nn.relu)(l2)\n",
    "    \n",
    "    l4 = combine(l1, l3)\n",
    "    l5 = dense(int(l4.shape[1]), 16, activation_type=tf.nn.relu)(l4)\n",
    "    \n",
    "    out = dense(int(l5.shape[1]), 10)(l5)\n",
    "    \n",
    "    # Define the cost\n",
    "    cost = tf.reduce_mean(tf.nn.softmax_cross_entropy_with_logits(logits=out, labels=tf.one_hot(labels,depth=10)))\n",
    "    \n",
    "    # Apply an optimizer\n",
    "    optimizer = tf.train.GradientDescentOptimizer(learning_rate=learning_rate_ph).minimize(cost)\n",
    "    \n",
    "    return cost, optimizer, out"
   ]
  },
  {
   "cell_type": "code",
   "execution_count": 27,
   "metadata": {
    "collapsed": true
   },
   "outputs": [],
   "source": [
    "def get_next_batch(batch_size, X, y):\n",
    "    for i in range(int(y.shape[0]/batch_size)-1):\n",
    "        yield X[i: i+batch_size, :] , y[i: i+batch_size]"
   ]
  },
  {
   "cell_type": "code",
   "execution_count": 28,
   "metadata": {
    "collapsed": false
   },
   "outputs": [],
   "source": [
    "cost, optimizer, output = nn()"
   ]
  },
  {
   "cell_type": "code",
   "execution_count": 29,
   "metadata": {
    "collapsed": false,
    "scrolled": true
   },
   "outputs": [
    {
     "name": "stdout",
     "output_type": "stream",
     "text": [
      "Epoch: 0001 cost= 2.172001600\n",
      "Train Accuracy: 0.158552659552\n",
      "Validation Accuracy: 0.166836734694\n",
      "\n",
      "Epoch: 0002 cost= 0.912872493\n",
      "Train Accuracy: 0.590161146307\n",
      "Validation Accuracy: 0.587244897959\n",
      "\n",
      "Epoch: 0003 cost= 0.251244098\n",
      "Train Accuracy: 0.71359326502\n",
      "Validation Accuracy: 0.713265306122\n",
      "\n",
      "Epoch: 0004 cost= 0.153925925\n",
      "Train Accuracy: 0.72660402228\n",
      "Validation Accuracy: 0.723299319728\n",
      "\n",
      "Epoch: 0005 cost= 0.116762266\n",
      "Train Accuracy: 0.807134657086\n",
      "Validation Accuracy: 0.80731292517\n",
      "\n",
      "Epoch: 0006 cost= 0.115687571\n",
      "Train Accuracy: 0.806284280794\n",
      "Validation Accuracy: 0.797619047619\n",
      "\n",
      "Epoch: 0007 cost= 0.095302030\n",
      "Train Accuracy: 0.833241209235\n",
      "Validation Accuracy: 0.821088435374\n",
      "\n",
      "Epoch: 0008 cost= 0.080269277\n",
      "Train Accuracy: 0.835749819295\n",
      "Validation Accuracy: 0.837925170068\n",
      "\n",
      "Epoch: 0009 cost= 0.031113096\n",
      "Train Accuracy: 0.864407500319\n",
      "Validation Accuracy: 0.865136054422\n",
      "\n",
      "Epoch: 0010 cost= 0.166495115\n",
      "Train Accuracy: 0.823929588843\n",
      "Validation Accuracy: 0.816326530612\n",
      "\n",
      "Epoch: 0011 cost= 0.022156190\n",
      "Train Accuracy: 0.86525787661\n",
      "Validation Accuracy: 0.861224489796\n",
      "\n",
      "Epoch: 0012 cost= 0.031841423\n",
      "Train Accuracy: 0.869424720439\n",
      "Validation Accuracy: 0.875170068027\n",
      "\n",
      "Epoch: 0013 cost= 0.094178483\n",
      "Train Accuracy: 0.864407500319\n",
      "Validation Accuracy: 0.858163265306\n",
      "\n",
      "Epoch: 0014 cost= 0.125631541\n",
      "Train Accuracy: 0.851694374761\n",
      "Validation Accuracy: 0.856292517007\n",
      "\n",
      "Epoch: 0015 cost= 0.071841106\n",
      "Train Accuracy: 0.867086185637\n",
      "Validation Accuracy: 0.867346938776\n",
      "\n",
      "Epoch: 0016 cost= 0.023840997\n",
      "Train Accuracy: 0.873719120711\n",
      "Validation Accuracy: 0.86887755102\n",
      "\n",
      "Epoch: 0017 cost= 0.027819961\n",
      "Train Accuracy: 0.894468302224\n",
      "Validation Accuracy: 0.89268707483\n",
      "\n",
      "Epoch: 0018 cost= 0.011987654\n",
      "Train Accuracy: 0.881755176666\n",
      "Validation Accuracy: 0.879081632653\n",
      "\n",
      "Epoch: 0019 cost= 0.027744394\n",
      "Train Accuracy: 0.874739572261\n",
      "Validation Accuracy: 0.881292517007\n",
      "\n",
      "Epoch: 0020 cost= 0.038724467\n",
      "Train Accuracy: 0.884136230282\n",
      "Validation Accuracy: 0.887414965986\n",
      "\n",
      "Epoch: 0021 cost= 0.055285521\n",
      "Train Accuracy: 0.867426336154\n",
      "Validation Accuracy: 0.867176870748\n",
      "\n",
      "Epoch: 0022 cost= 0.056373678\n",
      "Train Accuracy: 0.881542582593\n",
      "Validation Accuracy: 0.890306122449\n",
      "\n",
      "Epoch: 0023 cost= 0.055698276\n",
      "Train Accuracy: 0.890471533654\n",
      "Validation Accuracy: 0.884183673469\n",
      "\n",
      "Epoch: 0024 cost= 0.070690773\n",
      "Train Accuracy: 0.887410179004\n",
      "Validation Accuracy: 0.882993197279\n",
      "\n",
      "Epoch: 0025 cost= 0.061297584\n",
      "Train Accuracy: 0.888473149369\n",
      "Validation Accuracy: 0.886904761905\n",
      "\n",
      "Epoch: 0026 cost= 0.010323219\n",
      "Train Accuracy: 0.893915557634\n",
      "Validation Accuracy: 0.890646258503\n",
      "\n",
      "Epoch: 0027 cost= 0.125153586\n",
      "Train Accuracy: 0.876610400102\n",
      "Validation Accuracy: 0.881632653061\n",
      "\n",
      "Epoch: 0028 cost= 0.027329471\n",
      "Train Accuracy: 0.898294995536\n",
      "Validation Accuracy: 0.902721088435\n",
      "\n",
      "Epoch: 0029 cost= 0.018830922\n",
      "Train Accuracy: 0.896636761767\n",
      "Validation Accuracy: 0.89268707483\n",
      "\n",
      "Epoch: 0030 cost= 0.015006680\n",
      "Train Accuracy: 0.884986606573\n",
      "Validation Accuracy: 0.882823129252\n",
      "\n",
      "Epoch: 0031 cost= 0.033707283\n",
      "Train Accuracy: 0.893617925932\n",
      "Validation Accuracy: 0.891326530612\n",
      "\n",
      "Epoch: 0032 cost= 0.011141850\n",
      "Train Accuracy: 0.890726646541\n",
      "Validation Accuracy: 0.88112244898\n",
      "\n",
      "Epoch: 0033 cost= 0.042290818\n",
      "Train Accuracy: 0.907946766444\n",
      "Validation Accuracy: 0.906972789116\n",
      "\n",
      "Epoch: 0034 cost= 0.020260509\n",
      "Train Accuracy: 0.90883966155\n",
      "Validation Accuracy: 0.906462585034\n",
      "\n",
      "Epoch: 0035 cost= 0.005766517\n",
      "Train Accuracy: 0.905480675199\n",
      "Validation Accuracy: 0.901870748299\n",
      "\n",
      "Epoch: 0036 cost= 0.025060393\n",
      "Train Accuracy: 0.878736340831\n",
      "Validation Accuracy: 0.877210884354\n",
      "\n",
      "Epoch: 0037 cost= 0.008145267\n",
      "Train Accuracy: 0.906926314894\n",
      "Validation Accuracy: 0.912585034014\n",
      "\n",
      "Epoch: 0038 cost= 0.050186019\n",
      "Train Accuracy: 0.841149708746\n",
      "Validation Accuracy: 0.836904761905\n",
      "\n",
      "Epoch: 0039 cost= 0.057795584\n",
      "Train Accuracy: 0.888005442408\n",
      "Validation Accuracy: 0.88112244898\n",
      "\n",
      "Epoch: 0040 cost= 0.060378037\n",
      "Train Accuracy: 0.908712105107\n",
      "Validation Accuracy: 0.910884353741\n",
      "\n",
      "Epoch: 0041 cost= 0.155104563\n",
      "Train Accuracy: 0.915302521366\n",
      "Validation Accuracy: 0.921088435374\n",
      "\n",
      "Epoch: 0042 cost= 0.008624230\n",
      "Train Accuracy: 0.909562481398\n",
      "Validation Accuracy: 0.909863945578\n",
      "\n",
      "Epoch: 0043 cost= 0.017981574\n",
      "Train Accuracy: 0.915260002551\n",
      "Validation Accuracy: 0.907482993197\n",
      "\n",
      "Epoch: 0044 cost= 0.008433565\n",
      "Train Accuracy: 0.900250861006\n",
      "Validation Accuracy: 0.902721088435\n",
      "\n",
      "Epoch: 0045 cost= 0.008140719\n",
      "Train Accuracy: 0.906033419788\n",
      "Validation Accuracy: 0.906292517007\n",
      "\n",
      "Epoch: 0046 cost= 0.016999792\n",
      "Train Accuracy: 0.913644287597\n",
      "Validation Accuracy: 0.912414965986\n",
      "\n",
      "Epoch: 0047 cost= 0.083432153\n",
      "Train Accuracy: 0.912198647902\n",
      "Validation Accuracy: 0.911394557823\n",
      "\n",
      "Epoch: 0048 cost= 0.014127602\n",
      "Train Accuracy: 0.921085080148\n",
      "Validation Accuracy: 0.921598639456\n",
      "\n",
      "Epoch: 0049 cost= 0.038251698\n",
      "Train Accuracy: 0.907436540669\n",
      "Validation Accuracy: 0.909863945578\n",
      "\n",
      "Epoch: 0050 cost= 0.011631547\n",
      "Train Accuracy: 0.891024278243\n",
      "Validation Accuracy: 0.891156462585\n",
      "\n",
      "Epoch: 0051 cost= 0.009818939\n",
      "Train Accuracy: 0.908329435775\n",
      "Validation Accuracy: 0.901700680272\n",
      "\n",
      "Epoch: 0052 cost= 0.015692074\n",
      "Train Accuracy: 0.913644287597\n",
      "Validation Accuracy: 0.910204081633\n",
      "\n",
      "Epoch: 0053 cost= 0.009651184\n",
      "Train Accuracy: 0.902716952251\n",
      "Validation Accuracy: 0.906462585034\n",
      "\n",
      "Epoch: 0054 cost= 0.008539638\n",
      "Train Accuracy: 0.921127598963\n",
      "Validation Accuracy: 0.916496598639\n",
      "\n",
      "Epoch: 0055 cost= 0.006079716\n",
      "Train Accuracy: 0.924571622943\n",
      "Validation Accuracy: 0.92925170068\n",
      "\n",
      "Epoch: 0056 cost= 0.005429573\n",
      "Train Accuracy: 0.92333857732\n",
      "Validation Accuracy: 0.921598639456\n",
      "\n",
      "Epoch: 0057 cost= 0.012010437\n",
      "Train Accuracy: 0.919511884009\n",
      "Validation Accuracy: 0.921088435374\n",
      "\n",
      "Epoch: 0058 cost= 0.014384695\n",
      "Train Accuracy: 0.925336961606\n",
      "Validation Accuracy: 0.92619047619\n",
      "\n",
      "Epoch: 0059 cost= 0.007885672\n",
      "Train Accuracy: 0.909732556656\n",
      "Validation Accuracy: 0.915816326531\n",
      "\n",
      "Epoch: 0060 cost= 0.007793610\n",
      "Train Accuracy: 0.916195416472\n",
      "Validation Accuracy: 0.910884353741\n",
      "\n",
      "Epoch: 0061 cost= 0.047083702\n",
      "Train Accuracy: 0.927632977593\n",
      "Validation Accuracy: 0.920578231293\n",
      "\n",
      "Epoch: 0062 cost= 0.016912954\n",
      "Train Accuracy: 0.930311662911\n",
      "Validation Accuracy: 0.932993197279\n",
      "\n",
      "Epoch: 0063 cost= 0.027728606\n",
      "Train Accuracy: 0.916237935286\n",
      "Validation Accuracy: 0.908333333333\n",
      "\n",
      "Epoch: 0064 cost= 0.003399958\n",
      "Train Accuracy: 0.920022109784\n",
      "Validation Accuracy: 0.919387755102\n",
      "\n",
      "Epoch: 0065 cost= 0.009319449\n",
      "Train Accuracy: 0.915940303584\n",
      "Validation Accuracy: 0.916666666667\n",
      "\n",
      "Epoch: 0066 cost= 0.255458683\n",
      "Train Accuracy: 0.920064628598\n",
      "Validation Accuracy: 0.927380952381\n",
      "\n",
      "Epoch: 0067 cost= 0.005491640\n",
      "Train Accuracy: 0.902759471066\n",
      "Validation Accuracy: 0.904421768707\n",
      "\n",
      "Epoch: 0068 cost= 0.003992005\n",
      "Train Accuracy: 0.931247076831\n",
      "Validation Accuracy: 0.925170068027\n",
      "\n",
      "Epoch: 0069 cost= 0.007609542\n",
      "Train Accuracy: 0.928185722182\n",
      "Validation Accuracy: 0.929931972789\n",
      "\n",
      "Epoch: 0070 cost= 0.008356850\n",
      "Train Accuracy: 0.925974743824\n",
      "Validation Accuracy: 0.922959183673\n",
      "\n",
      "Epoch: 0071 cost= 0.010530639\n",
      "Train Accuracy: 0.924231472427\n",
      "Validation Accuracy: 0.923129251701\n",
      "\n",
      "Epoch: 0072 cost= 0.011612862\n",
      "Train Accuracy: 0.922318125771\n",
      "Validation Accuracy: 0.91887755102\n",
      "\n",
      "Epoch: 0073 cost= 0.010014346\n",
      "Train Accuracy: 0.929291211361\n",
      "Validation Accuracy: 0.929931972789\n",
      "\n",
      "Epoch: 0074 cost= 0.006489045\n",
      "Train Accuracy: 0.929503805434\n",
      "Validation Accuracy: 0.925\n",
      "\n",
      "Epoch: 0075 cost= 0.004154601\n",
      "Train Accuracy: 0.926952676559\n",
      "Validation Accuracy: 0.928231292517\n",
      "\n",
      "Epoch: 0076 cost= 0.008086419\n",
      "Train Accuracy: 0.923125983248\n",
      "Validation Accuracy: 0.92619047619\n",
      "\n",
      "Epoch: 0077 cost= 0.010915045\n",
      "Train Accuracy: 0.911390790425\n",
      "Validation Accuracy: 0.909353741497\n",
      "\n",
      "Epoch: 0078 cost= 0.007409415\n",
      "Train Accuracy: 0.933628130448\n",
      "Validation Accuracy: 0.929761904762\n",
      "\n",
      "Epoch: 0079 cost= 0.002870693\n",
      "Train Accuracy: 0.935626514733\n",
      "Validation Accuracy: 0.933673469388\n",
      "\n",
      "Epoch: 0080 cost= 0.003393954\n",
      "Train Accuracy: 0.92537948042\n",
      "Validation Accuracy: 0.929421768707\n",
      "\n",
      "Epoch: 0081 cost= 0.006713107\n",
      "Train Accuracy: 0.927547939963\n",
      "Validation Accuracy: 0.927040816327\n",
      "\n",
      "Epoch: 0082 cost= 0.001686411\n",
      "Train Accuracy: 0.935669033547\n",
      "Validation Accuracy: 0.933673469388\n",
      "\n",
      "Epoch: 0083 cost= 0.005615583\n",
      "Train Accuracy: 0.923933840725\n",
      "Validation Accuracy: 0.923299319728\n",
      "\n",
      "Epoch: 0084 cost= 0.005513586\n",
      "Train Accuracy: 0.930651813427\n",
      "Validation Accuracy: 0.931462585034\n",
      "\n",
      "Epoch: 0085 cost= 0.004610524\n",
      "Train Accuracy: 0.929333730176\n",
      "Validation Accuracy: 0.919387755102\n",
      "\n",
      "Epoch: 0086 cost= 0.004199265\n",
      "Train Accuracy: 0.92890854203\n",
      "Validation Accuracy: 0.928911564626\n",
      "\n",
      "Epoch: 0087 cost= 0.004844030\n",
      "Train Accuracy: 0.933160423487\n",
      "Validation Accuracy: 0.934523809524\n",
      "\n",
      "Epoch: 0088 cost= 0.011025454\n",
      "Train Accuracy: 0.931799821421\n",
      "Validation Accuracy: 0.933843537415\n",
      "\n",
      "Epoch: 0089 cost= 0.008272486\n",
      "Train Accuracy: 0.933202942302\n",
      "Validation Accuracy: 0.938265306122\n",
      "\n",
      "Epoch: 0090 cost= 0.003856918\n",
      "Train Accuracy: 0.93541392066\n",
      "Validation Accuracy: 0.929761904762\n",
      "\n",
      "Epoch: 0091 cost= 0.005098701\n",
      "Train Accuracy: 0.926442450784\n",
      "Validation Accuracy: 0.923299319728\n",
      "\n",
      "Epoch: 0092 cost= 0.012161717\n",
      "Train Accuracy: 0.92686763893\n",
      "Validation Accuracy: 0.933163265306\n",
      "\n",
      "Epoch: 0093 cost= 0.166244611\n",
      "Train Accuracy: 0.934776138441\n",
      "Validation Accuracy: 0.936394557823\n",
      "\n",
      "Epoch: 0094 cost= 0.004068226\n",
      "Train Accuracy: 0.924571622943\n",
      "Validation Accuracy: 0.923299319728\n",
      "\n",
      "Epoch: 0095 cost= 0.003573188\n",
      "Train Accuracy: 0.923253539691\n",
      "Validation Accuracy: 0.926020408163\n",
      "\n",
      "Epoch: 0096 cost= 0.006480209\n",
      "Train Accuracy: 0.926740082487\n",
      "Validation Accuracy: 0.927891156463\n",
      "\n",
      "Epoch: 0097 cost= 0.006096105\n",
      "Train Accuracy: 0.912666354862\n",
      "Validation Accuracy: 0.917006802721\n",
      "\n",
      "Epoch: 0098 cost= 0.005127675\n",
      "Train Accuracy: 0.937114673243\n",
      "Validation Accuracy: 0.941836734694\n",
      "\n",
      "Epoch: 0099 cost= 0.005335185\n",
      "Train Accuracy: 0.919171733492\n",
      "Validation Accuracy: 0.917517006803\n",
      "\n",
      "Epoch: 0100 cost= 0.002886008\n",
      "Train Accuracy: 0.941749224032\n",
      "Validation Accuracy: 0.943027210884\n",
      "\n",
      "Optimization Finished!\n",
      "Test Accuracy: 0.932941830013\n"
     ]
    }
   ],
   "source": [
    "from sklearn.metrics import accuracy_score\n",
    "\n",
    "# Initialize tensorflow session\n",
    "init = tf.global_variables_initializer()\n",
    "\n",
    "epochs = 100\n",
    "batch_size = 64\n",
    "num_batches = int(X_train.shape[0]/batch_size)\n",
    "n_train = int(len(y_train)*0.8)\n",
    "\n",
    "train_accuracy = []\n",
    "val_accuracy = []\n",
    "cost_curr = []\n",
    "\n",
    "# Launch the graph\n",
    "with tf.Session() as sess:\n",
    "    sess.run(init)\n",
    "    \n",
    "    #plt.ion()\n",
    "    # Training cycle\n",
    "    current_placeholder_value = 0.001\n",
    "    \n",
    "    for epoch in range(epochs):\n",
    "        # Shuffle data for cross validation\n",
    "        indices = np.array(range(len(y_train)))\n",
    "        np.random.shuffle(indices)\n",
    "        \n",
    "        train_indices = indices[: n_train]\n",
    "        val_indices = indices[n_train:]\n",
    "        \n",
    "        y_train_fold, X_train_fold, y_val_fold, X_val_fold = y_train[train_indices], X_train[train_indices, :], \\\n",
    "        y_train[val_indices], X_train[val_indices, :]\n",
    "        \n",
    "        # Loop over all batches\n",
    "        for x,y in get_next_batch(batch_size, X_train_fold, y_train_fold):\n",
    "            sess.run(optimizer, feed_dict={input_:x, labels:y, learning_rate_ph:current_placeholder_value})\n",
    "            \n",
    "        c = sess.run(cost, feed_dict={input_: x, labels: y, learning_rate_ph:current_placeholder_value})\n",
    "        print(\"Epoch:\", '%04d' % (epoch+1), \"cost=\", \"{:.9f}\".format(c))\n",
    "        \n",
    "        # Find train accuracy\n",
    "        y_predicted_train_fold = np.argmax(output.eval(feed_dict={input_: X_train_fold, labels: y_train_fold, learning_rate_ph:current_placeholder_value}), 1)\n",
    "        current_train_acc = accuracy_score(y_true=y_train_fold, y_pred=y_predicted_train_fold)\n",
    "        \n",
    "        train_accuracy.append(current_train_acc)\n",
    "        \n",
    "        print(\"Train Accuracy:\", current_train_acc)\n",
    "        \n",
    "        # Find the validation accuracy\n",
    "        y_predicted_val_fold = np.argmax(output.eval(feed_dict={input_: X_val_fold, labels: y_val_fold, learning_rate_ph:current_placeholder_value}), 1)\n",
    "        current_val_acc = accuracy_score(y_true=y_val_fold, y_pred=y_predicted_val_fold)\n",
    "        \n",
    "        val_accuracy.append(current_val_acc)\n",
    "        \n",
    "        print(\"Validation Accuracy:\", current_val_acc)\n",
    "        print()\n",
    "        \n",
    "        cost_curr.append(c)\n",
    "        \n",
    "        #if (epoch > 0 and  epoch % 10 == 0):\n",
    "         #   current_placeholder_value = 1.001*current_placeholder_value\n",
    "        \n",
    "        #plt.plot(train_accuracy, 'b-', val_accuracy, 'r-')\n",
    "        #plt.show()\n",
    "    \n",
    "    print(\"Optimization Finished!\")\n",
    "    \n",
    "    \n",
    "    # Find test accuracy\n",
    "    y_predicted_test = np.argmax(output.eval(feed_dict={input_: X_test, labels: y_test}), 1)\n",
    "    print(\"Test Accuracy:\", accuracy_score(y_true=y_test, y_pred=y_predicted_test))"
   ]
  },
  {
   "cell_type": "code",
   "execution_count": 30,
   "metadata": {
    "collapsed": false
   },
   "outputs": [
    {
     "data": {
      "image/png": "[encoded data removed]",
      "text/plain": [
       "<matplotlib.figure.Figure at 0x7f93cb27fef0>"
      ]
     },
     "metadata": {},
     "output_type": "display_data"
    }
   ],
   "source": [
    "plt.plot(train_accuracy, 'b-', val_accuracy, 'r-')\n",
    "plt.show()"
   ]
  },
  {
   "cell_type": "code",
   "execution_count": 31,
   "metadata": {
    "collapsed": false
   },
   "outputs": [
    {
     "data": {
      "image/png": "[encoded data removed]",
      "text/plain": [
       "<matplotlib.figure.Figure at 0x7f93b8786ba8>"
      ]
     },
     "metadata": {},
     "output_type": "display_data"
    }
   ],
   "source": [
    "plt.plot(cost_curr, 'b-')\n",
    "plt.show()"
   ]
  },
  {
   "cell_type": "code",
   "execution_count": 32,
   "metadata": {
    "collapsed": false
   },
   "outputs": [
    {
     "data": {
      "text/plain": [
       "array([[1236,    0,    2,    4,    0,    5,    9,    2,    3,    2],\n",
       "       [   0, 1356,   11,   10,    0,    2,    4,    3,   23,    1],\n",
       "       [  12,    1, 1168,   18,    3,    0,    7,    3,   11,    3],\n",
       "       [   2,    9,   32, 1199,    1,   38,    5,    8,   16,    7],\n",
       "       [   9,    5,    4,    0, 1117,    3,    7,    2,   10,   27],\n",
       "       [  15,    3,    3,   22,    6, 1047,   20,    3,   12,    4],\n",
       "       [  34,    2,   17,    2,   21,   13, 1131,    0,    6,    1],\n",
       "       [   8,    5,   26,    4,    3,    5,    0, 1259,    5,   17],\n",
       "       [  13,   13,   14,   13,    5,   21,   12,    1, 1129,   14],\n",
       "       [  13,    4,    2,   16,   48,   14,    0,   42,   19, 1114]])"
      ]
     },
     "execution_count": 32,
     "metadata": {},
     "output_type": "execute_result"
    }
   ],
   "source": [
    "from sklearn.metrics import confusion_matrix\n",
    "\n",
    "confusion_matrix(y_true=y_test, y_pred=y_predicted_test)"
   ]
  },
  {
   "cell_type": "code",
   "execution_count": 33,
   "metadata": {
    "collapsed": false
   },
   "outputs": [
    {
     "data": {
      "image/png": "[encoded data removed]",
      "text/plain": [
       "<matplotlib.figure.Figure at 0x7f93b873c630>"
      ]
     },
     "metadata": {},
     "output_type": "display_data"
    },
    {
     "data": {
      "image/png": "[encoded data removed]",
      "text/plain": [
       "<matplotlib.figure.Figure at 0x7f93b879d0b8>"
      ]
     },
     "metadata": {},
     "output_type": "display_data"
    },
    {
     "data": {
      "image/png": "[encoded data removed]",
      "text/plain": [
       "<matplotlib.figure.Figure at 0x7f93b85e2dd8>"
      ]
     },
     "metadata": {},
     "output_type": "display_data"
    },
    {
     "data": {
      "image/png": "[encoded data removed]",
      "text/plain": [
       "<matplotlib.figure.Figure at 0x7f93b85476d8>"
      ]
     },
     "metadata": {},
     "output_type": "display_data"
    },
    {
     "data": {
      "image/png": "[encoded data removed]",
      "text/plain": [
       "<matplotlib.figure.Figure at 0x7f93b8529048>"
      ]
     },
     "metadata": {},
     "output_type": "display_data"
    },
    {
     "data": {
      "image/png": "[encoded data removed]",
      "text/plain": [
       "<matplotlib.figure.Figure at 0x7f93b8768390>"
      ]
     },
     "metadata": {},
     "output_type": "display_data"
    },
    {
     "data": {
      "image/png": "[encoded data removed]",
      "text/plain": [
       "<matplotlib.figure.Figure at 0x7f93b8693320>"
      ]
     },
     "metadata": {},
     "output_type": "display_data"
    },
    {
     "data": {
      "image/png": "[encoded data removed]",
      "text/plain": [
       "<matplotlib.figure.Figure at 0x7f93b83dbda0>"
      ]
     },
     "metadata": {},
     "output_type": "display_data"
    },
    {
     "data": {
      "image/png": "[encoded data removed]",
      "text/plain": [
       "<matplotlib.figure.Figure at 0x7f93b82febe0>"
      ]
     },
     "metadata": {},
     "output_type": "display_data"
    },
    {
     "data": {
      "image/png": "[encoded data removed]",
      "text/plain": [
       "<matplotlib.figure.Figure at 0x7f93c4e17518>"
      ]
     },
     "metadata": {},
     "output_type": "display_data"
    },
    {
     "data": {
      "image/png": "[encoded data removed]",
      "text/plain": [
       "<matplotlib.figure.Figure at 0x7f93b83e30b8>"
      ]
     },
     "metadata": {},
     "output_type": "display_data"
    },
    {
     "data": {
      "image/png": "[encoded data removed]",
      "text/plain": [
       "<matplotlib.figure.Figure at 0x7f93b8489240>"
      ]
     },
     "metadata": {},
     "output_type": "display_data"
    },
    {
     "data": {
      "image/png": "[encoded data removed]",
      "text/plain": [
       "<matplotlib.figure.Figure at 0x7f93cb222fd0>"
      ]
     },
     "metadata": {},
     "output_type": "display_data"
    },
    {
     "data": {
      "image/png": "[encoded data removed]",
      "text/plain": [
       "<matplotlib.figure.Figure at 0x7f93b82d68d0>"
      ]
     },
     "metadata": {},
     "output_type": "display_data"
    },
    {
     "data": {
      "image/png": "[encoded data removed]",
      "text/plain": [
       "<matplotlib.figure.Figure at 0x7f93b8370ef0>"
      ]
     },
     "metadata": {},
     "output_type": "display_data"
    },
    {
     "data": {
      "image/png": "[encoded data removed]",
      "text/plain": [
       "<matplotlib.figure.Figure at 0x7f93b82e3550>"
      ]
     },
     "metadata": {},
     "output_type": "display_data"
    },
    {
     "data": {
      "image/png": "[encoded data removed]",
      "text/plain": [
       "<matplotlib.figure.Figure at 0x7f93b851e400>"
      ]
     },
     "metadata": {},
     "output_type": "display_data"
    },
    {
     "data": {
      "image/png": "[encoded data removed]",
      "text/plain": [
       "<matplotlib.figure.Figure at 0x7f93b8718f60>"
      ]
     },
     "metadata": {},
     "output_type": "display_data"
    },
    {
     "data": {
      "image/png": "[encoded data removed]",
      "text/plain": [
       "<matplotlib.figure.Figure at 0x7f93b858fd30>"
      ]
     },
     "metadata": {},
     "output_type": "display_data"
    },
    {
     "data": {
      "image/png": "[encoded data removed]",
      "text/plain": [
       "<matplotlib.figure.Figure at 0x7f93b855a2e8>"
      ]
     },
     "metadata": {},
     "output_type": "display_data"
    },
    {
     "data": {
      "image/png": "[encoded data removed]",
      "text/plain": [
       "<matplotlib.figure.Figure at 0x7f93b82a6c88>"
      ]
     },
     "metadata": {},
     "output_type": "display_data"
    },
    {
     "data": {
      "image/png": "[encoded data removed]",
      "text/plain": [
       "<matplotlib.figure.Figure at 0x7f93b824c9b0>"
      ]
     },
     "metadata": {},
     "output_type": "display_data"
    },
    {
     "data": {
      "image/png": "[encoded data removed]",
      "text/plain": [
       "<matplotlib.figure.Figure at 0x7f93b818f550>"
      ]
     },
     "metadata": {},
     "output_type": "display_data"
    },
    {
     "data": {
      "image/png": "[encoded data removed]",
      "text/plain": [
       "<matplotlib.figure.Figure at 0x7f93b80fad30>"
      ]
     },
     "metadata": {},
     "output_type": "display_data"
    },
    {
     "data": {
      "image/png": "[encoded data removed]",
      "text/plain": [
       "<matplotlib.figure.Figure at 0x7f93b80eae48>"
      ]
     },
     "metadata": {},
     "output_type": "display_data"
    },
    {
     "data": {
      "image/png": "[encoded data removed]",
      "text/plain": [
       "<matplotlib.figure.Figure at 0x7f93b80ea198>"
      ]
     },
     "metadata": {},
     "output_type": "display_data"
    },
    {
     "data": {
      "image/png": "[encoded data removed]",
      "text/plain": [
       "<matplotlib.figure.Figure at 0x7f93b8081eb8>"
      ]
     },
     "metadata": {},
     "output_type": "display_data"
    },
    {
     "data": {
      "image/png": "[encoded data removed]",
      "text/plain": [
       "<matplotlib.figure.Figure at 0x7f93b8210588>"
      ]
     },
     "metadata": {},
     "output_type": "display_data"
    },
    {
     "data": {
      "image/png": "[encoded data removed]",
      "text/plain": [
       "<matplotlib.figure.Figure at 0x7f93b852bda0>"
      ]
     },
     "metadata": {},
     "output_type": "display_data"
    },
    {
     "data": {
      "image/png": "[encoded data removed]",
      "text/plain": [
       "<matplotlib.figure.Figure at 0x7f93b816b278>"
      ]
     },
     "metadata": {},
     "output_type": "display_data"
    },
    {
     "data": {
      "image/png": "[encoded data removed]",
      "text/plain": [
       "<matplotlib.figure.Figure at 0x7f93b86fbc18>"
      ]
     },
     "metadata": {},
     "output_type": "display_data"
    },
    {
     "data": {
      "image/png": "[encoded data removed]",
      "text/plain": [
       "<matplotlib.figure.Figure at 0x7f93b86eb4a8>"
      ]
     },
     "metadata": {},
     "output_type": "display_data"
    },
    {
     "data": {
      "image/png": "[encoded data removed]",
      "text/plain": [
       "<matplotlib.figure.Figure at 0x7f93b8203908>"
      ]
     },
     "metadata": {},
     "output_type": "display_data"
    },
    {
     "data": {
      "image/png": "[encoded data removed]",
      "text/plain": [
       "<matplotlib.figure.Figure at 0x7f93b8750400>"
      ]
     },
     "metadata": {},
     "output_type": "display_data"
    },
    {
     "data": {
      "image/png": "[encoded data removed]",
      "text/plain": [
       "<matplotlib.figure.Figure at 0x7f93b85bf2e8>"
      ]
     },
     "metadata": {},
     "output_type": "display_data"
    },
    {
     "data": {
      "image/png": "[encoded data removed]",
      "text/plain": [
       "<matplotlib.figure.Figure at 0x7f93b84f4278>"
      ]
     },
     "metadata": {},
     "output_type": "display_data"
    },
    {
     "data": {
      "image/png": "[encoded data removed]",
      "text/plain": [
       "<matplotlib.figure.Figure at 0x7f93b8075b70>"
      ]
     },
     "metadata": {},
     "output_type": "display_data"
    },
    {
     "data": {
      "image/png": "[encoded data removed]",
      "text/plain": [
       "<matplotlib.figure.Figure at 0x7f93b806e128>"
      ]
     },
     "metadata": {},
     "output_type": "display_data"
    },
    {
     "data": {
      "image/png": "[encoded data removed]",
      "text/plain": [
       "<matplotlib.figure.Figure at 0x7f93b86ae7f0>"
      ]
     },
     "metadata": {},
     "output_type": "display_data"
    },
    {
     "data": {
      "image/png": "[encoded data removed]",
      "text/plain": [
       "<matplotlib.figure.Figure at 0x7f93b8313cf8>"
      ]
     },
     "metadata": {},
     "output_type": "display_data"
    },
    {
     "data": {
      "image/png": "[encoded data removed]",
      "text/plain": [
       "<matplotlib.figure.Figure at 0x7f93b85b7d30>"
      ]
     },
     "metadata": {},
     "output_type": "display_data"
    },
    {
     "data": {
      "image/png": "[encoded data removed]",
      "text/plain": [
       "<matplotlib.figure.Figure at 0x7f93e403c908>"
      ]
     },
     "metadata": {},
     "output_type": "display_data"
    }
   ],
   "source": [
    "indices = np.where(np.logical_and(y_predicted_test == 7, y_test.squeeze() == 9))[0]\n",
    "for i in indices:\n",
    "    plt.figure(figsize=(0.50,0.50))\n",
    "    plt.imshow(X_test[i].reshape([28,28]),cmap='gray')\n",
    "    plt.show()"
   ]
  },
  {
   "cell_type": "code",
   "execution_count": null,
   "metadata": {
    "collapsed": true
   },
   "outputs": [],
   "source": []
  }
 ],
 "metadata": {
  "kernelspec": {
   "display_name": "Python 3",
   "language": "python",
   "name": "python3"
  },
  "language_info": {
   "codemirror_mode": {
    "name": "ipython",
    "version": 3
   },
   "file_extension": ".py",
   "mimetype": "text/x-python",
   "name": "python",
   "nbconvert_exporter": "python",
   "pygments_lexer": "ipython3",
   "version": "3.6.0"
  }
 },
 "nbformat": 4,
 "nbformat_minor": 2
}
