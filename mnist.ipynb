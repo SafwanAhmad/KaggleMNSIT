{
 "cells": [
  {
   "cell_type": "code",
   "execution_count": 1,
   "metadata": {
    "collapsed": false
   },
   "outputs": [],
   "source": [
    "%matplotlib inline\n",
    "\n",
    "import numpy as np\n",
    "import matplotlib.pyplot as plt\n",
    "from numpy import genfromtxt\n",
    "\n",
    "dataframe = genfromtxt('train.csv', delimiter=',', skip_header=True)\n"
   ]
  },
  {
   "cell_type": "code",
   "execution_count": 2,
   "metadata": {
    "collapsed": false
   },
   "outputs": [],
   "source": [
    "y, X = dataframe[:,0], dataframe[:, 1:]"
   ]
  },
  {
   "cell_type": "code",
   "execution_count": 3,
   "metadata": {
    "collapsed": false
   },
   "outputs": [],
   "source": [
    "# Split it into train and validation\n",
    "n_train = int(0.6 * len(y))\n",
    "\n",
    "y_train, X_train, y_test, X_test = y[: n_train], X[: n_train, :], y[n_train:], X[n_train:, :]"
   ]
  },
  {
   "cell_type": "code",
   "execution_count": 4,
   "metadata": {
    "collapsed": false
   },
   "outputs": [
    {
     "data": {
      "text/plain": [
       "(16800, 784)"
      ]
     },
     "execution_count": 4,
     "metadata": {},
     "output_type": "execute_result"
    }
   ],
   "source": [
    "X_test.shape"
   ]
  },
  {
   "cell_type": "code",
   "execution_count": 5,
   "metadata": {
    "collapsed": false
   },
   "outputs": [
    {
     "name": "stdout",
     "output_type": "stream",
     "text": [
      "Tensor(\"Placeholder:0\", shape=(?, 784), dtype=float32)\n",
      "Tensor(\"Placeholder_1:0\", shape=(?, 1), dtype=int32)\n",
      "<tf.Variable 'Variable:0' shape=(784, 128) dtype=float32_ref>\n",
      "<tf.Variable 'Variable_1:0' shape=(128,) dtype=float32_ref>\n",
      "<tf.Variable 'Variable_2:0' shape=(128, 10) dtype=float32_ref>\n",
      "<tf.Variable 'Variable_3:0' shape=(10,) dtype=float32_ref>\n"
     ]
    }
   ],
   "source": [
    "import tensorflow as tf\n",
    "\n",
    "input_ = tf.placeholder(dtype=tf.float32, shape=(None, X_train.shape[1]))\n",
    "labels = tf.placeholder(dtype=tf.int32, shape=(None, 1))\n",
    "\n",
    "\n",
    "weight_input_hidden = tf.Variable(tf.random_normal(shape=(int(input_.shape[1]), 128), mean=0.0, stddev=0.1, dtype=tf.float32))\n",
    "bias_input_hidden = tf.Variable(tf.zeros(weight_input_hidden.shape[1]))\n",
    "\n",
    "weight_hidden_output = tf.Variable(tf.random_normal(shape=(128, 10), mean=0.0, stddev=0.1, dtype=tf.float32))\n",
    "bias_hidden_output = tf.Variable(tf.zeros(weight_hidden_output.shape[1]))\n",
    "\n",
    "print(input_)\n",
    "print(labels)\n",
    "print(weight_input_hidden)\n",
    "print(bias_input_hidden)\n",
    "print(weight_hidden_output)\n",
    "print(bias_hidden_output)\n",
    "\n",
    "weight_dict = {'layer0': weight_input_hidden, 'layer1': weight_hidden_output}\n",
    "bias_dict = {'layer0': bias_input_hidden, 'layer1': bias_hidden_output}"
   ]
  },
  {
   "cell_type": "code",
   "execution_count": 6,
   "metadata": {
    "collapsed": false
   },
   "outputs": [],
   "source": [
    "def nn():\n",
    "    hidden_input = tf.add(tf.matmul(input_, weight_dict['layer0']), bias_dict['layer0'])\n",
    "    hidden_output = tf.nn.relu(hidden_input)\n",
    "    \n",
    "    output = tf.add(tf.matmul(hidden_input, weight_dict['layer1']), bias_dict['layer1'])\n",
    "    \n",
    "    # Define the cost\n",
    "    cost = tf.reduce_mean(tf.nn.softmax_cross_entropy_with_logits(logits=output, labels=tf.one_hot(labels,depth=10)))\n",
    "    \n",
    "    # Apply an optimizer\n",
    "    optimizer = tf.train.GradientDescentOptimizer(learning_rate=0.001).minimize(cost)\n",
    "    \n",
    "    return cost, optimizer, output"
   ]
  },
  {
   "cell_type": "code",
   "execution_count": 7,
   "metadata": {
    "collapsed": true
   },
   "outputs": [],
   "source": [
    "def get_next_batch(batch_size, X, y):\n",
    "    for i in range(int(y.shape[0]/batch_size)-1):\n",
    "        yield X[i: i+batch_size, :] , y[i: i+batch_size]"
   ]
  },
  {
   "cell_type": "code",
   "execution_count": 16,
   "metadata": {
    "collapsed": true
   },
   "outputs": [],
   "source": [
    "def get_accuracy(logits, output, data):\n",
    "        # Find the accuracy\n",
    "        correct_prediction = tf.equal(tf.argmax(logits, 1), output)\n",
    "        # Calculate accuracy\n",
    "        accuracy = tf.reduce_mean(tf.cast(correct_prediction, \"float\"))\n",
    "    \n",
    "        return accuracy.eval(feed_dict={input_: data, labels: output.reshape([-1,1])})"
   ]
  },
  {
   "cell_type": "code",
   "execution_count": 20,
   "metadata": {
    "collapsed": false
   },
   "outputs": [
    {
     "name": "stdout",
     "output_type": "stream",
     "text": [
      "Epoch: 0001 cost= 0.132104725\n",
      "Train Accuracy: 0.764236\n",
      "Validation Accuracy: 0.759127\n",
      "\n",
      "Epoch: 0002 cost= 0.000000000\n",
      "Train Accuracy: 0.778224\n",
      "Validation Accuracy: 0.774206\n",
      "\n",
      "Epoch: 0003 cost= 0.000000000\n",
      "Train Accuracy: 0.758978\n",
      "Validation Accuracy: 0.757143\n",
      "\n",
      "Epoch: 0004 cost= 0.000000000\n",
      "Train Accuracy: 0.78006\n",
      "Validation Accuracy: 0.775595\n",
      "\n",
      "Epoch: 0005 cost= 0.000000002\n",
      "Train Accuracy: 0.781151\n",
      "Validation Accuracy: 0.775\n",
      "\n",
      "Epoch: 0006 cost= 0.000000000\n",
      "Train Accuracy: 0.775546\n",
      "Validation Accuracy: 0.766468\n",
      "\n",
      "Epoch: 0007 cost= 0.000000000\n",
      "Train Accuracy: 0.776488\n",
      "Validation Accuracy: 0.768651\n",
      "\n",
      "Epoch: 0008 cost= 0.000000000\n",
      "Train Accuracy: 0.776538\n",
      "Validation Accuracy: 0.768651\n",
      "\n",
      "Epoch: 0009 cost= 0.000000000\n",
      "Train Accuracy: 0.776587\n",
      "Validation Accuracy: 0.768651\n",
      "\n",
      "Epoch: 0010 cost= 0.000000000\n",
      "Train Accuracy: 0.776587\n",
      "Validation Accuracy: 0.768651\n",
      "\n",
      "Optimization Finished!\n",
      "Test Accuracy: 0.77119\n"
     ]
    }
   ],
   "source": [
    "cost, optimizer, output = nn()\n",
    "\n",
    "# Initialize tensorflow session\n",
    "init = tf.global_variables_initializer()\n",
    "\n",
    "epochs = 10\n",
    "batch_size = 64\n",
    "num_batches = int(X_train.shape[0]/batch_size)\n",
    "n_train = int(len(y_train)*0.8)\n",
    "\n",
    "# Launch the graph\n",
    "with tf.Session() as sess:\n",
    "    sess.run(init)\n",
    "    \n",
    "    # Training cycle\n",
    "    for epoch in range(epochs):\n",
    "        # Shuffle data for cross validation\n",
    "        indices = np.array(range(len(y_train)))\n",
    "        np.random.shuffle(indices)\n",
    "        \n",
    "        train_indices = indices[: n_train]\n",
    "        val_indices = indices[n_train:]\n",
    "        \n",
    "        y_train_fold, X_train_fold, y_val_fold, X_val_fold = y_train[train_indices], X_train[train_indices, :], \\\n",
    "        y_train[val_indices], X_train[val_indices, :]\n",
    "        \n",
    "        # Loop over all batches\n",
    "        for x,y in get_next_batch(batch_size, X_train_fold, y_train_fold):\n",
    "            sess.run(optimizer, feed_dict={input_:x, labels:y.reshape([-1,1])})\n",
    "            \n",
    "        c = sess.run(cost, feed_dict={input_: x, labels: y.reshape([-1,1])})\n",
    "        print(\"Epoch:\", '%04d' % (epoch+1), \"cost=\", \"{:.9f}\".format(c))\n",
    "        \n",
    "        # Find train accuracy\n",
    "        print(\"Train Accuracy:\", get_accuracy(output, y_train_fold, X_train_fold))\n",
    "        \n",
    "        # Find the validation accuracy\n",
    "        print(\"Validation Accuracy:\", get_accuracy(output, y_val_fold, X_val_fold))\n",
    "        print()\n",
    "    \n",
    "    print(\"Optimization Finished!\")\n",
    "    \n",
    "    \n",
    "    # Find test accuracy\n",
    "    print(\"Test Accuracy:\", get_accuracy(output, y_test, X_test))"
   ]
  },
  {
   "cell_type": "code",
   "execution_count": null,
   "metadata": {
    "collapsed": true
   },
   "outputs": [],
   "source": []
  }
 ],
 "metadata": {
  "kernelspec": {
   "display_name": "Python 3",
   "language": "python",
   "name": "python3"
  },
  "language_info": {
   "codemirror_mode": {
    "name": "ipython",
    "version": 3
   },
   "file_extension": ".py",
   "mimetype": "text/x-python",
   "name": "python",
   "nbconvert_exporter": "python",
   "pygments_lexer": "ipython3",
   "version": "3.6.0"
  }
 },
 "nbformat": 4,
 "nbformat_minor": 2
}
