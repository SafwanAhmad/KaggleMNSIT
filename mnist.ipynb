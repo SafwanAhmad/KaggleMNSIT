{
 "cells": [
  {
   "cell_type": "code",
   "execution_count": 1,
   "metadata": {
    "collapsed": true
   },
   "outputs": [],
   "source": [
    "%matplotlib inline\n",
    "\n",
    "import numpy as np\n",
    "import matplotlib.pyplot as plt\n",
    "from numpy import genfromtxt\n",
    "\n",
    "dataframe = genfromtxt('train.csv', delimiter=',', skip_header=True)\n"
   ]
  },
  {
   "cell_type": "code",
   "execution_count": 2,
   "metadata": {
    "collapsed": true
   },
   "outputs": [],
   "source": [
    "y, X = dataframe[:,0], dataframe[:, 1:]\n",
    "y = y.reshape([-1,1])"
   ]
  },
  {
   "cell_type": "code",
   "execution_count": 3,
   "metadata": {
    "collapsed": true
   },
   "outputs": [],
   "source": [
    "# Shuffle data set\n",
    "indices = np.array(range(len(X)))\n",
    "np.random.shuffle(indices)\n",
    "\n",
    "X = X[indices]\n",
    "y = y[indices]\n",
    "\n",
    "# Split it into train and validation\n",
    "n_train = int(0.7 * len(y))\n",
    "\n",
    "y_train, X_train, y_test, X_test = y[: n_train], X[: n_train, :], y[n_train:], X[n_train:, :]\n",
    "\n",
    "X_train -= 127\n",
    "X_train /= 127\n",
    "\n",
    "X_test -= 127\n",
    "X_test /= 127"
   ]
  },
  {
   "cell_type": "code",
   "execution_count": 4,
   "metadata": {
    "collapsed": false
   },
   "outputs": [
    {
     "data": {
      "text/plain": [
       "(42000, 1)"
      ]
     },
     "execution_count": 4,
     "metadata": {},
     "output_type": "execute_result"
    }
   ],
   "source": [
    "X_test.shape\n",
    "y.shape"
   ]
  },
  {
   "cell_type": "code",
   "execution_count": 5,
   "metadata": {
    "collapsed": true
   },
   "outputs": [
    {
     "name": "stderr",
     "output_type": "stream",
     "text": [
      "/home/safwan/anaconda3/lib/python3.6/site-packages/h5py/__init__.py:36: FutureWarning: Conversion of the second argument of issubdtype from `float` to `np.floating` is deprecated. In future, it will be treated as `np.float64 == np.dtype(float).type`.\n",
      "  from ._conv import register_converters as _register_converters\n"
     ]
    }
   ],
   "source": [
    "import tensorflow as tf\n",
    "\n",
    "def dense(input_size, output_size, mean=0.0, stddev=0.01, dtype=tf.float32, activation_type=None):\n",
    "    weight_tensor = tf.Variable(tf.random_normal(shape=(input_size, output_size),\n",
    "                                                mean=mean, stddev=stddev, dtype=dtype))\n",
    "    \n",
    "    bias_tensor = tf.Variable(tf.zeros(output_size))\n",
    "    \n",
    "    def apply_dense(X, keep_prob):\n",
    "        result = tf.add(tf.matmul(X, weight_tensor), bias_tensor)\n",
    "        return tf.layers.dropout(activation_type(result), rate=1-keep_prob, training=True) if activation_type != None else result\n",
    "\n",
    "    return apply_dense\n",
    "        "
   ]
  },
  {
   "cell_type": "code",
   "execution_count": 6,
   "metadata": {
    "collapsed": true
   },
   "outputs": [],
   "source": [
    "def combine(tensor_one, tensor_two):\n",
    "    return tf.div(tf.add(tensor_one, tensor_two), 2)"
   ]
  },
  {
   "cell_type": "code",
   "execution_count": 7,
   "metadata": {
    "collapsed": true
   },
   "outputs": [],
   "source": [
    "input_ = tf.placeholder(dtype=tf.float32, shape=(None, X_train.shape[1]))\n",
    "labels = tf.placeholder(dtype=tf.int32, shape=(None, 1))\n",
    "learning_rate_ph = tf.placeholder(dtype=tf.float32)\n",
    "keep_prob = tf.placeholder(dtype=tf.float32)"
   ]
  },
  {
   "cell_type": "code",
   "execution_count": 8,
   "metadata": {
    "collapsed": true
   },
   "outputs": [],
   "source": [
    "def nn():\n",
    "    \n",
    "    l1 = dense(int(input_.shape[1]), 1024, activation_type=tf.nn.relu)(input_, keep_prob)\n",
    "    l2 = dense(int(l1.shape[1]), 256, activation_type=tf.nn.relu)(l1, keep_prob)\n",
    "    l3 = dense(int(l2.shape[1]), 64, activation_type=tf.nn.relu)(l2, keep_prob)\n",
    "    \n",
    "    #l4 = combine(l1, l3)\n",
    "    l5 = dense(int(l3.shape[1]), 32, activation_type=tf.nn.relu)(l3, keep_prob)\n",
    "    \n",
    "    l6 = dense(int(l5.shape[1]), 64, activation_type=tf.nn.relu)(l5, keep_prob)\n",
    "    \n",
    "    #l7 = combine(l2,l6)\n",
    "    \n",
    "    l8 = dense(int(l6.shape[1]), 64, activation_type=tf.nn.relu)(l6, keep_prob)\n",
    "    l9 = dense(int(l8.shape[1]), 64, activation_type=tf.nn.relu)(l8, keep_prob)\n",
    "    \n",
    "    #l10 = combine(l8,l9)\n",
    "    \n",
    "    out = dense(int(l3.shape[1]), 10)(l3, keep_prob)\n",
    "    \n",
    "    # Define the cost\n",
    "    cost = tf.reduce_mean(tf.nn.softmax_cross_entropy_with_logits(logits=out, labels=tf.one_hot(labels,depth=10)))\n",
    "    \n",
    "    # Apply an optimizer\n",
    "    optimizer = tf.train.AdamOptimizer(learning_rate=learning_rate_ph).minimize(cost)\n",
    "    \n",
    "    return cost, optimizer, out"
   ]
  },
  {
   "cell_type": "code",
   "execution_count": 9,
   "metadata": {
    "collapsed": true
   },
   "outputs": [],
   "source": [
    "def get_next_batch(batch_size, X, y):\n",
    "    for i in range(int(y.shape[0]/batch_size)-1):\n",
    "        yield X[i: i+batch_size, :] , y[i: i+batch_size]"
   ]
  },
  {
   "cell_type": "code",
   "execution_count": 10,
   "metadata": {
    "collapsed": true
   },
   "outputs": [
    {
     "name": "stdout",
     "output_type": "stream",
     "text": [
      "WARNING:tensorflow:From <ipython-input-8-817a02d51f0e>:22: softmax_cross_entropy_with_logits (from tensorflow.python.ops.nn_ops) is deprecated and will be removed in a future version.\n",
      "Instructions for updating:\n",
      "\n",
      "Future major versions of TensorFlow will allow gradients to flow\n",
      "into the labels input on backprop by default.\n",
      "\n",
      "See tf.nn.softmax_cross_entropy_with_logits_v2.\n",
      "\n"
     ]
    }
   ],
   "source": [
    "cost, optimizer, output = nn()"
   ]
  },
  {
   "cell_type": "code",
   "execution_count": 11,
   "metadata": {
    "collapsed": false,
    "scrolled": true
   },
   "outputs": [
    {
     "name": "stdout",
     "output_type": "stream",
     "text": [
      "Epoch: 0026 cost= 0.013589566\n",
      "Train Accuracy: 0.9010161996683532\n",
      "Validation Accuracy: 0.905952380952381\n",
      "Test Accuracy: 0.90135703515594\n",
      "\n",
      "Epoch: 0051 cost= 0.004329106\n",
      "Train Accuracy: 0.925294442790935\n",
      "Validation Accuracy: 0.9212585034013605\n",
      "Test Accuracy: 0.9194508372351401\n",
      "\n",
      "Epoch: 0076 cost= 0.002738221\n",
      "Train Accuracy: 0.9188741017900421\n",
      "Validation Accuracy: 0.9188775510204081\n",
      "Test Accuracy: 0.9108800888818348\n",
      "\n",
      "Epoch: 0101 cost= 0.002020458\n",
      "Train Accuracy: 0.9480420085888005\n",
      "Validation Accuracy: 0.9518707482993197\n",
      "Test Accuracy: 0.9369891278469963\n",
      "\n",
      "Epoch: 0126 cost= 0.000961743\n",
      "Train Accuracy: 0.9519537395297419\n",
      "Validation Accuracy: 0.948469387755102\n",
      "Test Accuracy: 0.942623601301484\n",
      "\n",
      "Epoch: 0151 cost= 0.000819490\n",
      "Train Accuracy: 0.9508057315362047\n",
      "Validation Accuracy: 0.9532312925170068\n",
      "Test Accuracy: 0.9415125783667962\n",
      "\n",
      "Epoch: 0176 cost= 0.000794826\n",
      "Train Accuracy: 0.9647093839023768\n",
      "Validation Accuracy: 0.964625850340136\n",
      "Test Accuracy: 0.9513530672168875\n",
      "\n",
      "Epoch: 0201 cost= 0.001335103\n",
      "Train Accuracy: 0.9573111101662486\n",
      "Validation Accuracy: 0.9535714285714286\n",
      "Test Accuracy: 0.9461947464486945\n",
      "\n",
      "Epoch: 0226 cost= 0.003915295\n",
      "Train Accuracy: 0.9670053998894511\n",
      "Validation Accuracy: 0.9681972789115646\n",
      "Test Accuracy: 0.9525434489326244\n",
      "\n",
      "Epoch: 0251 cost= 0.000312055\n",
      "Train Accuracy: 0.9669203622603002\n",
      "Validation Accuracy: 0.9649659863945578\n",
      "Test Accuracy: 0.9523847313705261\n",
      "\n",
      "Epoch: 0276 cost= 0.000759697\n",
      "Train Accuracy: 0.967090437518602\n",
      "Validation Accuracy: 0.9673469387755103\n",
      "Test Accuracy: 0.9540512657725577\n",
      "\n",
      "Epoch: 0301 cost= 0.000368185\n",
      "Train Accuracy: 0.9731281091883158\n",
      "Validation Accuracy: 0.9695578231292517\n",
      "Test Accuracy: 0.95746369335767\n",
      "\n",
      "Epoch: 0326 cost= 0.060443368\n",
      "Train Accuracy: 0.9759343509502955\n",
      "Validation Accuracy: 0.9744897959183674\n",
      "Test Accuracy: 0.9621458614395683\n",
      "\n",
      "Epoch: 0351 cost= 0.000072816\n",
      "Train Accuracy: 0.9744887112547302\n",
      "Validation Accuracy: 0.9715986394557823\n",
      "Test Accuracy: 0.9596857392270455\n",
      "\n",
      "Epoch: 0376 cost= 0.000193476\n",
      "Train Accuracy: 0.9804838641098687\n",
      "Validation Accuracy: 0.9768707482993197\n",
      "Test Accuracy: 0.9634949607174034\n",
      "\n",
      "Epoch: 0401 cost= 0.000086755\n",
      "Train Accuracy: 0.972575364598835\n",
      "Validation Accuracy: 0.9736394557823129\n",
      "Test Accuracy: 0.9592095865407507\n",
      "\n",
      "Epoch: 0426 cost= 0.000308700\n",
      "Train Accuracy: 0.9772524342021345\n",
      "Validation Accuracy: 0.9818027210884354\n",
      "Test Accuracy: 0.9634949607174034\n",
      "\n",
      "Epoch: 0451 cost= 0.000122445\n",
      "Train Accuracy: 0.9755942004336919\n",
      "Validation Accuracy: 0.9755102040816327\n",
      "Test Accuracy: 0.9591302277597016\n",
      "\n",
      "Epoch: 0476 cost= 0.000133773\n",
      "Train Accuracy: 0.980611420553595\n",
      "Validation Accuracy: 0.9782312925170068\n",
      "Test Accuracy: 0.9661931592730736\n",
      "\n",
      "Epoch: 0501 cost= 0.000054365\n",
      "Train Accuracy: 0.9838853692759046\n",
      "Validation Accuracy: 0.9831632653061224\n",
      "Test Accuracy: 0.9679390524561543\n",
      "\n",
      "Epoch: 0526 cost= 0.000032091\n",
      "Train Accuracy: 0.9835877375738764\n",
      "Validation Accuracy: 0.9824829931972789\n",
      "Test Accuracy: 0.9661931592730736\n",
      "\n",
      "Epoch: 0551 cost= 0.000068876\n",
      "Train Accuracy: 0.9743186359964284\n",
      "Validation Accuracy: 0.972108843537415\n",
      "Test Accuracy: 0.9581779223871121\n",
      "\n",
      "Epoch: 0576 cost= 0.000063715\n",
      "Train Accuracy: 0.9780602916790679\n",
      "Validation Accuracy: 0.9756802721088436\n",
      "Test Accuracy: 0.9580192048250139\n",
      "\n",
      "Epoch: 0601 cost= 0.000018810\n",
      "Train Accuracy: 0.9830349929843956\n",
      "Validation Accuracy: 0.9831632653061224\n",
      "Test Accuracy: 0.9664312356162209\n",
      "\n",
      "Epoch: 0626 cost= 0.001727118\n",
      "Train Accuracy: 0.984012925719631\n",
      "Validation Accuracy: 0.9829931972789115\n",
      "Test Accuracy: 0.968415205142449\n",
      "\n",
      "Epoch: 0651 cost= 0.000014507\n",
      "Train Accuracy: 0.9792082996726051\n",
      "Validation Accuracy: 0.9806122448979592\n",
      "Test Accuracy: 0.9609554797238314\n",
      "\n",
      "Epoch: 0676 cost= 0.000199394\n",
      "Train Accuracy: 0.9834176623155746\n",
      "Validation Accuracy: 0.9836734693877551\n",
      "Test Accuracy: 0.9673835409888104\n",
      "\n",
      "Epoch: 0701 cost= 0.000168829\n",
      "Train Accuracy: 0.987329393256516\n",
      "Validation Accuracy: 0.9853741496598639\n",
      "Test Accuracy: 0.9673041822077613\n",
      "\n",
      "Epoch: 0726 cost= 0.000023240\n",
      "Train Accuracy: 0.9754666439899655\n",
      "Validation Accuracy: 0.9743197278911565\n",
      "Test Accuracy: 0.959368304102849\n",
      "\n",
      "Epoch: 0751 cost= 0.000639766\n",
      "Train Accuracy: 0.9864364981504316\n",
      "Validation Accuracy: 0.9835034013605443\n",
      "Test Accuracy: 0.9682564875803508\n",
      "\n",
      "Epoch: 0776 cost= 0.000111345\n",
      "Train Accuracy: 0.9906883796079765\n",
      "Validation Accuracy: 0.9894557823129252\n",
      "Test Accuracy: 0.9708753273549718\n",
      "\n",
      "Epoch: 0801 cost= 0.000129430\n",
      "Train Accuracy: 0.9834601811301501\n",
      "Validation Accuracy: 0.983843537414966\n",
      "Test Accuracy: 0.9664312356162209\n",
      "\n",
      "Epoch: 0826 cost= 0.000020418\n",
      "Train Accuracy: 0.9889876270249586\n",
      "Validation Accuracy: 0.9903061224489796\n",
      "Test Accuracy: 0.9731767320053964\n",
      "\n",
      "Epoch: 0851 cost= 0.000010274\n",
      "Train Accuracy: 0.9897529656873166\n",
      "Validation Accuracy: 0.9889455782312925\n",
      "Test Accuracy: 0.9717482739465122\n",
      "\n",
      "Epoch: 0876 cost= 0.000112378\n",
      "Train Accuracy: 0.9710872060886943\n",
      "Validation Accuracy: 0.9741496598639455\n",
      "Test Accuracy: 0.9530989603999682\n",
      "\n",
      "Epoch: 0901 cost= 0.000254936\n",
      "Train Accuracy: 0.9830349929843956\n",
      "Validation Accuracy: 0.9818027210884354\n",
      "Test Accuracy: 0.9643679073089437\n",
      "\n",
      "Epoch: 0926 cost= 0.000022985\n",
      "Train Accuracy: 0.9856711594880735\n",
      "Validation Accuracy: 0.9841836734693877\n",
      "Test Accuracy: 0.9658757241488771\n",
      "\n",
      "Epoch: 0951 cost= 0.000094831\n",
      "Train Accuracy: 0.9825672860240656\n",
      "Validation Accuracy: 0.9843537414965986\n",
      "Test Accuracy: 0.9668280295214665\n",
      "\n",
      "Epoch: 0976 cost= 0.000069561\n",
      "Train Accuracy: 0.9836302563884519\n",
      "Validation Accuracy: 0.983843537414966\n",
      "Test Accuracy: 0.9653995714625824\n",
      "\n",
      "Epoch: 1001 cost= 0.000062088\n",
      "Train Accuracy: 0.9870317615544879\n",
      "Validation Accuracy: 0.9875850340136054\n",
      "Test Accuracy: 0.9686532814855964\n",
      "\n",
      "Epoch: 1026 cost= 0.000118276\n",
      "Train Accuracy: 0.9896679280581657\n",
      "Validation Accuracy: 0.988265306122449\n",
      "Test Accuracy: 0.969684945639235\n",
      "\n",
      "Epoch: 1051 cost= 0.000085361\n",
      "Train Accuracy: 0.9894553339852885\n",
      "Validation Accuracy: 0.9886054421768707\n",
      "Test Accuracy: 0.9698436632013332\n",
      "\n",
      "Epoch: 1076 cost= 0.001279918\n",
      "Train Accuracy: 0.971724988307326\n",
      "Validation Accuracy: 0.9664965986394558\n",
      "Test Accuracy: 0.9504801206253471\n",
      "\n",
      "Epoch: 1101 cost= 0.000008011\n",
      "Train Accuracy: 0.9872018368127896\n",
      "Validation Accuracy: 0.9894557823129252\n",
      "Test Accuracy: 0.9660344417109753\n",
      "\n",
      "Epoch: 1126 cost= 0.000029203\n",
      "Train Accuracy: 0.9905183043496747\n",
      "Validation Accuracy: 0.9880952380952381\n",
      "Test Accuracy: 0.9713514800412666\n",
      "\n",
      "Epoch: 1151 cost= 0.000016734\n",
      "Train Accuracy: 0.9903482290913729\n",
      "Validation Accuracy: 0.9899659863945578\n",
      "Test Accuracy: 0.9714308388223157\n",
      "\n",
      "Epoch: 1176 cost= 0.000078064\n",
      "Train Accuracy: 0.9914111994557592\n",
      "Validation Accuracy: 0.9913265306122448\n",
      "Test Accuracy: 0.9706372510118244\n",
      "\n",
      "Epoch: 1201 cost= 0.000008312\n",
      "Train Accuracy: 0.9852034525277436\n",
      "Validation Accuracy: 0.9886054421768707\n",
      "Test Accuracy: 0.9669867470835648\n",
      "\n",
      "Epoch: 1226 cost= 0.000004698\n",
      "Train Accuracy: 0.9868616862961861\n",
      "Validation Accuracy: 0.986734693877551\n",
      "Test Accuracy: 0.9669867470835648\n",
      "\n",
      "Epoch: 1251 cost= 0.000004705\n",
      "Train Accuracy: 0.9891577022832604\n",
      "Validation Accuracy: 0.9891156462585035\n",
      "Test Accuracy: 0.9723037854138561\n",
      "\n",
      "Epoch: 1276 cost= 0.000078841\n",
      "Train Accuracy: 0.9851184148985926\n",
      "Validation Accuracy: 0.9806122448979592\n",
      "Test Accuracy: 0.9633362431553051\n",
      "\n",
      "Epoch: 1301 cost= 0.000012018\n",
      "Train Accuracy: 0.973340703261193\n",
      "Validation Accuracy: 0.9698979591836735\n",
      "Test Accuracy: 0.9573843345766209\n",
      "\n",
      "Epoch: 1326 cost= 0.000002495\n",
      "Train Accuracy: 0.993664696628258\n",
      "Validation Accuracy: 0.992687074829932\n",
      "Test Accuracy: 0.9724625029759543\n",
      "\n",
      "Epoch: 1351 cost= 0.000001922\n",
      "Train Accuracy: 0.9920915004889663\n",
      "Validation Accuracy: 0.992517006802721\n",
      "Test Accuracy: 0.9706372510118244\n",
      "\n",
      "Epoch: 1376 cost= 0.000000519\n",
      "Train Accuracy: 0.9891151834686849\n",
      "Validation Accuracy: 0.9884353741496599\n",
      "Test Accuracy: 0.9696055868581859\n",
      "\n",
      "Epoch: 1401 cost= 0.000015983\n",
      "Train Accuracy: 0.9863514605212806\n",
      "Validation Accuracy: 0.9865646258503401\n",
      "Test Accuracy: 0.9662725180541227\n",
      "\n",
      "Epoch: 1426 cost= 0.000110211\n",
      "Train Accuracy: 0.9922190569326927\n",
      "Validation Accuracy: 0.9913265306122448\n",
      "Test Accuracy: 0.9715101976033648\n",
      "\n",
      "Epoch: 1451 cost= 0.000002880\n",
      "Train Accuracy: 0.9903482290913729\n",
      "Validation Accuracy: 0.9886054421768707\n",
      "Test Accuracy: 0.970319815887628\n",
      "\n",
      "Epoch: 1476 cost= 0.000000609\n",
      "Train Accuracy: 0.9935371401845317\n",
      "Validation Accuracy: 0.995578231292517\n",
      "Test Accuracy: 0.9730973732243473\n",
      "\n",
      "Optimization Finished!\n",
      "Test Accuracy: 0.9756368542179192\n"
     ]
    }
   ],
   "source": [
    "from sklearn.metrics import accuracy_score\n",
    "\n",
    "# Initialize tensorflow session\n",
    "init = tf.global_variables_initializer()\n",
    "\n",
    "epochs = 1500\n",
    "batch_size = 100\n",
    "num_batches = int(X_train.shape[0]/batch_size)\n",
    "n_train = int(len(y_train)*0.8)\n",
    "\n",
    "train_accuracy = []\n",
    "val_accuracy = []\n",
    "test_accuracy = []\n",
    "cost_curr = []\n",
    "\n",
    "# Launch the graph\n",
    "with tf.Session() as sess:\n",
    "    sess.run(init)\n",
    "    \n",
    "    #graph = tf.get_default_graph().as_graph_def()\n",
    "    #print([n for n in graph.node])\n",
    "    \n",
    "    #plt.ion()\n",
    "    # Training cycle\n",
    "    current_placeholder_value = 0.0001\n",
    "    \n",
    "    for epoch in range(epochs):\n",
    "        # Shuffle data for cross validation\n",
    "        indices = np.array(range(len(y_train)))\n",
    "        np.random.shuffle(indices)\n",
    "        \n",
    "        train_indices = indices[: n_train]\n",
    "        val_indices = indices[n_train:]\n",
    "        \n",
    "        y_train_fold, X_train_fold, y_val_fold, X_val_fold = y_train[train_indices], X_train[train_indices, :], \\\n",
    "        y_train[val_indices], X_train[val_indices, :]\n",
    "        \n",
    "        # Loop over all batches\n",
    "        for x,y in get_next_batch(batch_size, X_train_fold, y_train_fold):\n",
    "            sess.run(optimizer, \n",
    "                     feed_dict={input_:x, labels:y, learning_rate_ph:current_placeholder_value, keep_prob:1.0})\n",
    "        \n",
    "        if epoch > 0 and  epoch % 25 == 0:\n",
    "            c = sess.run(cost, feed_dict={input_: x, labels: y, learning_rate_ph:current_placeholder_value, keep_prob:1.0})\n",
    "            print(\"Epoch:\", '%04d' % (epoch+1), \"cost=\", \"{:.9f}\".format(c))\n",
    "            \n",
    "            # Find train accuracy\n",
    "            y_predicted_train_fold = np.argmax(output.eval(feed_dict={input_: X_train_fold, labels: y_train_fold, learning_rate_ph:current_placeholder_value, keep_prob:1.0}), 1)\n",
    "            current_train_acc = accuracy_score(y_true=y_train_fold, y_pred=y_predicted_train_fold)\n",
    "\n",
    "            train_accuracy.append(current_train_acc)\n",
    "\n",
    "\n",
    "\n",
    "            # Find the validation accuracy\n",
    "            y_predicted_val_fold = np.argmax(output.eval(feed_dict={input_: X_val_fold, labels: y_val_fold, learning_rate_ph:current_placeholder_value, keep_prob:1.0}), 1)\n",
    "            current_val_acc = accuracy_score(y_true=y_val_fold, y_pred=y_predicted_val_fold)\n",
    "\n",
    "            val_accuracy.append(current_val_acc)\n",
    "            cost_curr.append(c)\n",
    "\n",
    "            # Find test accuracy.\n",
    "            y_predicted_test = np.argmax(output.eval(feed_dict={input_: X_test, labels: y_test, keep_prob:1.0}), 1)\n",
    "\n",
    "            test_acc = accuracy_score(y_true=y_test, y_pred=y_predicted_test)\n",
    "            test_accuracy.append(test_acc)\n",
    "            print(\"Train Accuracy:\", current_train_acc)\n",
    "            print(\"Validation Accuracy:\", current_val_acc)\n",
    "            print(\"Test Accuracy:\",test_acc)\n",
    "            print()\n",
    "            \n",
    "            # Save the model\n",
    "            saver = tf.train.Saver()\n",
    "            saver.save(sess, './MNIST_MODEL_FC', global_step=500)\n",
    "    \n",
    "    print(\"Optimization Finished!\")\n",
    "    \n",
    "    \n",
    "    # Find test accuracy\n",
    "    y_predicted_test = np.argmax(output.eval(feed_dict={input_: X_test, labels: y_test, keep_prob:1.0}), 1)\n",
    "    print(\"Test Accuracy:\", accuracy_score(y_true=y_test, y_pred=y_predicted_test))"
   ]
  },
  {
   "cell_type": "code",
   "execution_count": 12,
   "metadata": {
    "collapsed": false
   },
   "outputs": [
    {
     "data": {
      "image/png": "[encoded data removed]",
      "text/plain": [
       "<matplotlib.figure.Figure at 0x7f47244b6780>"
      ]
     },
     "metadata": {},
     "output_type": "display_data"
    }
   ],
   "source": [
    "plt.plot(train_accuracy, 'b-', val_accuracy, 'r-', test_accuracy, 'k-')\n",
    "plt.show()"
   ]
  },
  {
   "cell_type": "code",
   "execution_count": 13,
   "metadata": {
    "collapsed": false
   },
   "outputs": [
    {
     "data": {
      "image/png": "[encoded data removed]",
      "text/plain": [
       "<matplotlib.figure.Figure at 0x7f47246b86d8>"
      ]
     },
     "metadata": {},
     "output_type": "display_data"
    }
   ],
   "source": [
    "plt.plot(test_accuracy,'k-')\n",
    "plt.show()"
   ]
  },
  {
   "cell_type": "code",
   "execution_count": 14,
   "metadata": {
    "collapsed": false
   },
   "outputs": [
    {
     "data": {
      "image/png": "[encoded data removed]",
      "text/plain": [
       "<matplotlib.figure.Figure at 0x7f46e0b3e898>"
      ]
     },
     "metadata": {},
     "output_type": "display_data"
    }
   ],
   "source": [
    "plt.plot(cost_curr, 'b-')\n",
    "plt.show()"
   ]
  },
  {
   "cell_type": "code",
   "execution_count": 15,
   "metadata": {
    "collapsed": false
   },
   "outputs": [
    {
     "data": {
      "text/plain": [
       "array([[1231,    0,    1,    2,    0,    1,    8,    2,    2,    3],\n",
       "       [   0, 1432,    2,    1,    1,    1,    1,    0,    4,    1],\n",
       "       [   2,    9, 1147,    6,    3,    2,    5,    2,    2,    1],\n",
       "       [   1,    0,   13, 1221,    0,   15,    0,    2,   10,    5],\n",
       "       [   0,    1,    1,    0, 1176,    0,    3,    1,    0,   20],\n",
       "       [   5,    1,    3,    7,    2, 1138,    5,    0,    8,    1],\n",
       "       [   3,    0,    0,    0,    3,    2, 1310,    0,    1,    0],\n",
       "       [   2,   12,   15,    4,    5,    1,    0, 1259,    2,   17],\n",
       "       [   2,    3,    5,    5,    4,    4,    3,    0, 1176,    3],\n",
       "       [   6,    0,    0,    5,   16,    4,    0,    9,    5, 1204]])"
      ]
     },
     "execution_count": 15,
     "metadata": {},
     "output_type": "execute_result"
    }
   ],
   "source": [
    "from sklearn.metrics import confusion_matrix\n",
    "\n",
    "confusion_matrix(y_true=y_test, y_pred=y_predicted_test)"
   ]
  },
  {
   "cell_type": "code",
   "execution_count": 16,
   "metadata": {
    "collapsed": false
   },
   "outputs": [],
   "source": [
    "indices = np.where(np.logical_and(y_predicted_test == 3, y_test.squeeze() == 4))[0]\n",
    "for i in indices:\n",
    "    plt.figure(figsize=(0.50,0.50))\n",
    "    plt.imshow(X_test[i].reshape([28,28]),cmap='gray')\n",
    "    plt.show()"
   ]
  },
  {
   "cell_type": "code",
   "execution_count": 17,
   "metadata": {
    "collapsed": true
   },
   "outputs": [],
   "source": [
    "import pandas as pd\n",
    "from numpy import genfromtxt\n",
    "\n",
    "# Load actual test data\n",
    "dataframe = genfromtxt('test.csv', delimiter=',', skip_header=True)\n",
    "\n",
    "y_true_test, X_true_test = dataframe[:,0], dataframe[:, :]\n",
    "y_true_test = y_true_test.reshape([-1,1])\n",
    "\n",
    "# Normalize the data\n",
    "X_true_test -= 127\n",
    "X_true_test /= 127"
   ]
  },
  {
   "cell_type": "code",
   "execution_count": 18,
   "metadata": {},
   "outputs": [
    {
     "data": {
      "image/png": "[encoded data removed]",
      "text/plain": [
       "<matplotlib.figure.Figure at 0x7f46e0a300b8>"
      ]
     },
     "metadata": {},
     "output_type": "display_data"
    },
    {
     "name": "stdout",
     "output_type": "stream",
     "text": [
      "[-1.]\n"
     ]
    }
   ],
   "source": [
    "import matplotlib.pyplot as plt\n",
    "\n",
    "# print(X_true_test[0].reshape([28,28]))\n",
    "plt.figure(figsize=(0.50,0.50))\n",
    "plt.imshow(X_true_test[0].reshape([28,28]),cmap='gray')\n",
    "plt.show()\n",
    "print(y_true_test[0])"
   ]
  },
  {
   "cell_type": "code",
   "execution_count": 19,
   "metadata": {},
   "outputs": [],
   "source": [
    "#print(tf.trainable_variables())"
   ]
  },
  {
   "cell_type": "code",
   "execution_count": 20,
   "metadata": {},
   "outputs": [
    {
     "name": "stdout",
     "output_type": "stream",
     "text": [
      "INFO:tensorflow:Restoring parameters from ./MNIST_MODEL_FC-500\n"
     ]
    }
   ],
   "source": [
    "import tensorflow as tf\n",
    "import numpy as np\n",
    "\n",
    "#init = tf.global_variables_initializer()\n",
    "\n",
    "# Load the saved model\n",
    "with tf.Session() as sess:\n",
    "    #sess.run(init)\n",
    "    \n",
    "    #model = tf.train.import_meta_graph('./MNIST_MODEL_FC.meta')\n",
    "    #model.restore(sess, tf.train.latest_checkpoint('./'))\n",
    "    saver = tf.train.Saver()\n",
    "    saver.restore(sess, tf.train.latest_checkpoint('./'))\n",
    "    \n",
    "    # Find final test accuracy\n",
    "    y_final_predicted_test = np.argmax(output.eval(feed_dict={input_: X_true_test, keep_prob:1.0}), 1)\n",
    "    # Write predicted values to file in csv format\n",
    "    out_index = np.array(list(range(1,len(y_final_predicted_test)+1)))\n",
    "    data = pd.DataFrame({'Label': y_final_predicted_test})\n",
    "    \n",
    "    # Start index from 1\n",
    "    data.index += 1\n",
    "    data.to_csv('./predictions.csv', index_label=['ImageId'])"
   ]
  },
  {
   "cell_type": "code",
   "execution_count": 21,
   "metadata": {},
   "outputs": [
    {
     "data": {
      "image/png": "[encoded data removed]",
      "text/plain": [
       "<matplotlib.figure.Figure at 0x7f46e0a47978>"
      ]
     },
     "metadata": {},
     "output_type": "display_data"
    },
    {
     "name": "stdout",
     "output_type": "stream",
     "text": [
      "2\n"
     ]
    },
    {
     "data": {
      "image/png": "[encoded data removed]",
      "text/plain": [
       "<matplotlib.figure.Figure at 0x7f460e9b2278>"
      ]
     },
     "metadata": {},
     "output_type": "display_data"
    },
    {
     "name": "stdout",
     "output_type": "stream",
     "text": [
      "0\n"
     ]
    },
    {
     "data": {
      "image/png": "[encoded data removed]",
      "text/plain": [
       "<matplotlib.figure.Figure at 0x7f460e7b3390>"
      ]
     },
     "metadata": {},
     "output_type": "display_data"
    },
    {
     "name": "stdout",
     "output_type": "stream",
     "text": [
      "9\n"
     ]
    },
    {
     "data": {
      "image/png": "[encoded data removed]",
      "text/plain": [
       "<matplotlib.figure.Figure at 0x7f460e5b06a0>"
      ]
     },
     "metadata": {},
     "output_type": "display_data"
    },
    {
     "name": "stdout",
     "output_type": "stream",
     "text": [
      "9\n"
     ]
    },
    {
     "data": {
      "image/png": "[encoded data removed]",
      "text/plain": [
       "<matplotlib.figure.Figure at 0x7f460e3b1550>"
      ]
     },
     "metadata": {},
     "output_type": "display_data"
    },
    {
     "name": "stdout",
     "output_type": "stream",
     "text": [
      "3\n"
     ]
    },
    {
     "data": {
      "image/png": "[encoded data removed]",
      "text/plain": [
       "<matplotlib.figure.Figure at 0x7f460e1e6c18>"
      ]
     },
     "metadata": {},
     "output_type": "display_data"
    },
    {
     "name": "stdout",
     "output_type": "stream",
     "text": [
      "7\n"
     ]
    },
    {
     "data": {
      "image/png": "[encoded data removed]",
      "text/plain": [
       "<matplotlib.figure.Figure at 0x7f460e3b1588>"
      ]
     },
     "metadata": {},
     "output_type": "display_data"
    },
    {
     "name": "stdout",
     "output_type": "stream",
     "text": [
      "0\n"
     ]
    },
    {
     "data": {
      "image/png": "[encoded data removed]",
      "text/plain": [
       "<matplotlib.figure.Figure at 0x7f460dbdc7b8>"
      ]
     },
     "metadata": {},
     "output_type": "display_data"
    },
    {
     "name": "stdout",
     "output_type": "stream",
     "text": [
      "3\n"
     ]
    },
    {
     "data": {
      "image/png": "[encoded data removed]",
      "text/plain": [
       "<matplotlib.figure.Figure at 0x7f460d9d6518>"
      ]
     },
     "metadata": {},
     "output_type": "display_data"
    },
    {
     "name": "stdout",
     "output_type": "stream",
     "text": [
      "0\n"
     ]
    },
    {
     "data": {
      "image/png": "[encoded data removed]",
      "text/plain": [
       "<matplotlib.figure.Figure at 0x7f4687897c88>"
      ]
     },
     "metadata": {},
     "output_type": "display_data"
    },
    {
     "name": "stdout",
     "output_type": "stream",
     "text": [
      "3\n"
     ]
    },
    {
     "data": {
      "image/png": "[encoded data removed]",
      "text/plain": [
       "<matplotlib.figure.Figure at 0x7f460d615400>"
      ]
     },
     "metadata": {},
     "output_type": "display_data"
    },
    {
     "name": "stdout",
     "output_type": "stream",
     "text": [
      "5\n"
     ]
    },
    {
     "data": {
      "image/png": "[encoded data removed]",
      "text/plain": [
       "<matplotlib.figure.Figure at 0x7f460d402358>"
      ]
     },
     "metadata": {},
     "output_type": "display_data"
    },
    {
     "name": "stdout",
     "output_type": "stream",
     "text": [
      "7\n"
     ]
    },
    {
     "data": {
      "image/png": "[encoded data removed]",
      "text/plain": [
       "<matplotlib.figure.Figure at 0x7f460d20b5f8>"
      ]
     },
     "metadata": {},
     "output_type": "display_data"
    },
    {
     "name": "stdout",
     "output_type": "stream",
     "text": [
      "4\n"
     ]
    },
    {
     "data": {
      "image/png": "[encoded data removed]",
      "text/plain": [
       "<matplotlib.figure.Figure at 0x7f460cdfb128>"
      ]
     },
     "metadata": {},
     "output_type": "display_data"
    },
    {
     "name": "stdout",
     "output_type": "stream",
     "text": [
      "0\n"
     ]
    },
    {
     "data": {
      "image/png": "[encoded data removed]",
      "text/plain": [
       "<matplotlib.figure.Figure at 0x7f460cc37588>"
      ]
     },
     "metadata": {},
     "output_type": "display_data"
    },
    {
     "name": "stdout",
     "output_type": "stream",
     "text": [
      "4\n"
     ]
    },
    {
     "data": {
      "image/png": "[encoded data removed]",
      "text/plain": [
       "<matplotlib.figure.Figure at 0x7f460ca34860>"
      ]
     },
     "metadata": {},
     "output_type": "display_data"
    },
    {
     "name": "stdout",
     "output_type": "stream",
     "text": [
      "3\n"
     ]
    },
    {
     "data": {
      "image/png": "[encoded data removed]",
      "text/plain": [
       "<matplotlib.figure.Figure at 0x7f460e38a9e8>"
      ]
     },
     "metadata": {},
     "output_type": "display_data"
    },
    {
     "name": "stdout",
     "output_type": "stream",
     "text": [
      "3\n"
     ]
    },
    {
     "data": {
      "image/png": "[encoded data removed]",
      "text/plain": [
       "<matplotlib.figure.Figure at 0x7f460c661390>"
      ]
     },
     "metadata": {},
     "output_type": "display_data"
    },
    {
     "name": "stdout",
     "output_type": "stream",
     "text": [
      "1\n"
     ]
    },
    {
     "data": {
      "image/png": "[encoded data removed]",
      "text/plain": [
       "<matplotlib.figure.Figure at 0x7f460c66a320>"
      ]
     },
     "metadata": {},
     "output_type": "display_data"
    },
    {
     "name": "stdout",
     "output_type": "stream",
     "text": [
      "9\n"
     ]
    },
    {
     "data": {
      "image/png": "[encoded data removed]",
      "text/plain": [
       "<matplotlib.figure.Figure at 0x7f460c2a64a8>"
      ]
     },
     "metadata": {},
     "output_type": "display_data"
    },
    {
     "name": "stdout",
     "output_type": "stream",
     "text": [
      "0\n"
     ]
    },
    {
     "data": {
      "image/png": "[encoded data removed]",
      "text/plain": [
       "<matplotlib.figure.Figure at 0x7f460be98748>"
      ]
     },
     "metadata": {},
     "output_type": "display_data"
    },
    {
     "name": "stdout",
     "output_type": "stream",
     "text": [
      "9\n"
     ]
    },
    {
     "data": {
      "image/png": "[encoded data removed]",
      "text/plain": [
       "<matplotlib.figure.Figure at 0x7f460bc9b4e0>"
      ]
     },
     "metadata": {},
     "output_type": "display_data"
    },
    {
     "name": "stdout",
     "output_type": "stream",
     "text": [
      "1\n"
     ]
    },
    {
     "data": {
      "image/png": "[encoded data removed]",
      "text/plain": [
       "<matplotlib.figure.Figure at 0x7f460ba86358>"
      ]
     },
     "metadata": {},
     "output_type": "display_data"
    },
    {
     "name": "stdout",
     "output_type": "stream",
     "text": [
      "1\n"
     ]
    },
    {
     "data": {
      "image/png": "[encoded data removed]",
      "text/plain": [
       "<matplotlib.figure.Figure at 0x7f460b8d15c0>"
      ]
     },
     "metadata": {},
     "output_type": "display_data"
    },
    {
     "name": "stdout",
     "output_type": "stream",
     "text": [
      "5\n"
     ]
    },
    {
     "data": {
      "image/png": "[encoded data removed]",
      "text/plain": [
       "<matplotlib.figure.Figure at 0x7f460b6cd320>"
      ]
     },
     "metadata": {},
     "output_type": "display_data"
    },
    {
     "name": "stdout",
     "output_type": "stream",
     "text": [
      "7\n"
     ]
    },
    {
     "data": {
      "image/png": "[encoded data removed]",
      "text/plain": [
       "<matplotlib.figure.Figure at 0x7f460b4c9550>"
      ]
     },
     "metadata": {},
     "output_type": "display_data"
    },
    {
     "name": "stdout",
     "output_type": "stream",
     "text": [
      "4\n"
     ]
    },
    {
     "data": {
      "image/png": "[encoded data removed]",
      "text/plain": [
       "<matplotlib.figure.Figure at 0x7f460b2cc550>"
      ]
     },
     "metadata": {},
     "output_type": "display_data"
    },
    {
     "name": "stdout",
     "output_type": "stream",
     "text": [
      "2\n"
     ]
    },
    {
     "data": {
      "image/png": "[encoded data removed]",
      "text/plain": [
       "<matplotlib.figure.Figure at 0x7f460f29be10>"
      ]
     },
     "metadata": {},
     "output_type": "display_data"
    },
    {
     "name": "stdout",
     "output_type": "stream",
     "text": [
      "7\n"
     ]
    },
    {
     "data": {
      "image/png": "[encoded data removed]",
      "text/plain": [
       "<matplotlib.figure.Figure at 0x7f460f0f1908>"
      ]
     },
     "metadata": {},
     "output_type": "display_data"
    },
    {
     "name": "stdout",
     "output_type": "stream",
     "text": [
      "4\n"
     ]
    },
    {
     "data": {
      "image/png": "[encoded data removed]",
      "text/plain": [
       "<matplotlib.figure.Figure at 0x7f460ecf0710>"
      ]
     },
     "metadata": {},
     "output_type": "display_data"
    },
    {
     "name": "stdout",
     "output_type": "stream",
     "text": [
      "7\n"
     ]
    },
    {
     "data": {
      "image/png": "[encoded data removed]",
      "text/plain": [
       "<matplotlib.figure.Figure at 0x7f460eaeb240>"
      ]
     },
     "metadata": {},
     "output_type": "display_data"
    },
    {
     "name": "stdout",
     "output_type": "stream",
     "text": [
      "7\n"
     ]
    },
    {
     "data": {
      "image/png": "[encoded data removed]",
      "text/plain": [
       "<matplotlib.figure.Figure at 0x7f460e8e75f8>"
      ]
     },
     "metadata": {},
     "output_type": "display_data"
    },
    {
     "name": "stdout",
     "output_type": "stream",
     "text": [
      "5\n"
     ]
    },
    {
     "data": {
      "image/png": "[encoded data removed]",
      "text/plain": [
       "<matplotlib.figure.Figure at 0x7f460e6e8588>"
      ]
     },
     "metadata": {},
     "output_type": "display_data"
    },
    {
     "name": "stdout",
     "output_type": "stream",
     "text": [
      "4\n"
     ]
    },
    {
     "data": {
      "image/png": "[encoded data removed]",
      "text/plain": [
       "<matplotlib.figure.Figure at 0x7f460e514710>"
      ]
     },
     "metadata": {},
     "output_type": "display_data"
    },
    {
     "name": "stdout",
     "output_type": "stream",
     "text": [
      "2\n"
     ]
    },
    {
     "data": {
      "image/png": "[encoded data removed]",
      "text/plain": [
       "<matplotlib.figure.Figure at 0x7f460e1145c0>"
      ]
     },
     "metadata": {},
     "output_type": "display_data"
    },
    {
     "name": "stdout",
     "output_type": "stream",
     "text": [
      "6\n"
     ]
    },
    {
     "data": {
      "image/png": "[encoded data removed]",
      "text/plain": [
       "<matplotlib.figure.Figure at 0x7f460df10320>"
      ]
     },
     "metadata": {},
     "output_type": "display_data"
    },
    {
     "name": "stdout",
     "output_type": "stream",
     "text": [
      "2\n"
     ]
    },
    {
     "data": {
      "image/png": "[encoded data removed]",
      "text/plain": [
       "<matplotlib.figure.Figure at 0x7f460db3e400>"
      ]
     },
     "metadata": {},
     "output_type": "display_data"
    },
    {
     "name": "stdout",
     "output_type": "stream",
     "text": [
      "5\n"
     ]
    },
    {
     "data": {
      "image/png": "[encoded data removed]",
      "text/plain": [
       "<matplotlib.figure.Figure at 0x7f460d943518>"
      ]
     },
     "metadata": {},
     "output_type": "display_data"
    },
    {
     "name": "stdout",
     "output_type": "stream",
     "text": [
      "5\n"
     ]
    },
    {
     "data": {
      "image/png": "[encoded data removed]",
      "text/plain": [
       "<matplotlib.figure.Figure at 0x7f460d770588>"
      ]
     },
     "metadata": {},
     "output_type": "display_data"
    },
    {
     "name": "stdout",
     "output_type": "stream",
     "text": [
      "1\n"
     ]
    },
    {
     "data": {
      "image/png": "[encoded data removed]",
      "text/plain": [
       "<matplotlib.figure.Figure at 0x7f460d56a320>"
      ]
     },
     "metadata": {},
     "output_type": "display_data"
    },
    {
     "name": "stdout",
     "output_type": "stream",
     "text": [
      "6\n"
     ]
    },
    {
     "data": {
      "image/png": "[encoded data removed]",
      "text/plain": [
       "<matplotlib.figure.Figure at 0x7f460d3736d8>"
      ]
     },
     "metadata": {},
     "output_type": "display_data"
    },
    {
     "name": "stdout",
     "output_type": "stream",
     "text": [
      "7\n"
     ]
    },
    {
     "data": {
      "image/png": "[encoded data removed]",
      "text/plain": [
       "<matplotlib.figure.Figure at 0x7f460cfa6400>"
      ]
     },
     "metadata": {},
     "output_type": "display_data"
    },
    {
     "name": "stdout",
     "output_type": "stream",
     "text": [
      "7\n"
     ]
    },
    {
     "data": {
      "image/png": "[encoded data removed]",
      "text/plain": [
       "<matplotlib.figure.Figure at 0x7f460cb96780>"
      ]
     },
     "metadata": {},
     "output_type": "display_data"
    },
    {
     "name": "stdout",
     "output_type": "stream",
     "text": [
      "4\n"
     ]
    },
    {
     "data": {
      "image/png": "[encoded data removed]",
      "text/plain": [
       "<matplotlib.figure.Figure at 0x7f460c998550>"
      ]
     },
     "metadata": {},
     "output_type": "display_data"
    },
    {
     "name": "stdout",
     "output_type": "stream",
     "text": [
      "9\n"
     ]
    },
    {
     "data": {
      "image/png": "[encoded data removed]",
      "text/plain": [
       "<matplotlib.figure.Figure at 0x7f460c774fd0>"
      ]
     },
     "metadata": {},
     "output_type": "display_data"
    },
    {
     "name": "stdout",
     "output_type": "stream",
     "text": [
      "8\n"
     ]
    },
    {
     "data": {
      "image/png": "[encoded data removed]",
      "text/plain": [
       "<matplotlib.figure.Figure at 0x7f460c5c1208>"
      ]
     },
     "metadata": {},
     "output_type": "display_data"
    },
    {
     "name": "stdout",
     "output_type": "stream",
     "text": [
      "7\n"
     ]
    },
    {
     "data": {
      "image/png": "[encoded data removed]",
      "text/plain": [
       "<matplotlib.figure.Figure at 0x7f460c5c9eb8>"
      ]
     },
     "metadata": {},
     "output_type": "display_data"
    },
    {
     "name": "stdout",
     "output_type": "stream",
     "text": [
      "8\n"
     ]
    },
    {
     "data": {
      "image/png": "[encoded data removed]",
      "text/plain": [
       "<matplotlib.figure.Figure at 0x7f460c9afba8>"
      ]
     },
     "metadata": {},
     "output_type": "display_data"
    },
    {
     "name": "stdout",
     "output_type": "stream",
     "text": [
      "2\n"
     ]
    },
    {
     "data": {
      "image/png": "[encoded data removed]",
      "text/plain": [
       "<matplotlib.figure.Figure at 0x7f460cb82c50>"
      ]
     },
     "metadata": {},
     "output_type": "display_data"
    },
    {
     "name": "stdout",
     "output_type": "stream",
     "text": [
      "6\n"
     ]
    },
    {
     "data": {
      "image/png": "[encoded data removed]",
      "text/plain": [
       "<matplotlib.figure.Figure at 0x7f46e08e4128>"
      ]
     },
     "metadata": {},
     "output_type": "display_data"
    },
    {
     "name": "stdout",
     "output_type": "stream",
     "text": [
      "7\n"
     ]
    }
   ],
   "source": [
    "# print(X_true_test[0].reshape([28,28]))\n",
    "for i in range(50):\n",
    "    plt.figure(figsize=(0.50,0.50))\n",
    "    plt.imshow(X_true_test[i].reshape([28,28]),cmap='gray')\n",
    "    plt.show()\n",
    "    print(y_final_predicted_test[i])"
   ]
  },
  {
   "cell_type": "code",
   "execution_count": null,
   "metadata": {},
   "outputs": [],
   "source": []
  }
 ],
 "metadata": {
  "kernelspec": {
   "display_name": "Python 3",
   "language": "python",
   "name": "python3"
  },
  "language_info": {
   "codemirror_mode": {
    "name": "ipython",
    "version": 3
   },
   "file_extension": ".py",
   "mimetype": "text/x-python",
   "name": "python",
   "nbconvert_exporter": "python",
   "pygments_lexer": "ipython3",
   "version": "3.6.4"
  }
 },
 "nbformat": 4,
 "nbformat_minor": 2
}
